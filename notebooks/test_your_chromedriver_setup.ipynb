{
 "cells": [
  {
   "cell_type": "markdown",
   "id": "1f7cf254",
   "metadata": {},
   "source": [
    "This notebook is just a test to see if your ChromeDriver is installed properly.\n",
    "Do install `splinter` and `bs4` into `pip` separately.\n",
    "\n",
    "Run all cells to test."
   ]
  },
  {
   "cell_type": "code",
   "execution_count": 1,
   "id": "a62e1c39-73ff-43c3-a7c5-f86981f9b583",
   "metadata": {},
   "outputs": [],
   "source": [
    "from splinter import Browser\n",
    "from bs4 import BeautifulSoup"
   ]
  },
  {
   "cell_type": "code",
   "execution_count": 2,
   "id": "a452bcc7",
   "metadata": {},
   "outputs": [
    {
     "name": "stderr",
     "output_type": "stream",
     "text": [
      "The chromedriver version (123.0.6312.122) detected in PATH at C:\\Users\\jon_1\\bin\\chromedriver.exe might not be compatible with the detected chrome version (124.0.6367.63); currently, chromedriver 124.0.6367.91 is recommended for chrome 124.*, so it is advised to delete the driver in PATH and retry\n"
     ]
    }
   ],
   "source": [
    "# Open a Chrome window using Splinter\n",
    "browser = Browser('chrome')"
   ]
  },
  {
   "cell_type": "markdown",
   "id": "bbc8605e",
   "metadata": {},
   "source": [
    "At this point, your local machine should start a Chrome browser that has a heading called \"Chrome is being controlled by automated test software\"."
   ]
  },
  {
   "cell_type": "code",
   "execution_count": null,
   "id": "abf496e4",
   "metadata": {},
   "outputs": [],
   "source": []
  }
 ],
 "metadata": {
  "kernelspec": {
   "display_name": "python-webscraping-demo",
   "language": "python",
   "name": "python-webscraping-demo"
  },
  "language_info": {
   "codemirror_mode": {
    "name": "ipython",
    "version": 3
   },
   "file_extension": ".py",
   "mimetype": "text/x-python",
   "name": "python",
   "nbconvert_exporter": "python",
   "pygments_lexer": "ipython3",
   "version": "3.11.7"
  }
 },
 "nbformat": 4,
 "nbformat_minor": 5
}

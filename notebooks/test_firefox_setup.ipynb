{
 "cells": [
  {
   "cell_type": "markdown",
   "id": "1f7cf254",
   "metadata": {},
   "source": [
    "This notebook is just a test to see if your GeckoDriver is installed properly.\n",
    "Do install `splinter` and `bs4` into `pip` separately.\n",
    "\n",
    "Run all cells to test."
   ]
  },
  {
   "cell_type": "code",
   "execution_count": 1,
   "id": "a62e1c39-73ff-43c3-a7c5-f86981f9b583",
   "metadata": {},
   "outputs": [],
   "source": [
    "from splinter import Browser\n",
    "from bs4 import BeautifulSoup"
   ]
  },
  {
   "cell_type": "code",
   "execution_count": 3,
   "id": "a452bcc7",
   "metadata": {},
   "outputs": [],
   "source": [
    "# Open a Firefox window using Splinter\n",
    "browser = Browser()"
   ]
  },
  {
   "cell_type": "markdown",
   "id": "bbc8605e",
   "metadata": {},
   "source": [
    "At this point, your local machine should start a Firefox browser."
   ]
  },
  {
   "cell_type": "code",
   "execution_count": null,
   "id": "abf496e4",
   "metadata": {},
   "outputs": [],
   "source": []
  }
 ],
 "metadata": {
  "kernelspec": {
   "display_name": "python-webscraping-demo-mnVRVWp8",
   "language": "python",
   "name": "python3"
  },
  "language_info": {
   "codemirror_mode": {
    "name": "ipython",
    "version": 3
   },
   "file_extension": ".py",
   "mimetype": "text/x-python",
   "name": "python",
   "nbconvert_exporter": "python",
   "pygments_lexer": "ipython3",
   "version": "3.11.7"
  }
 },
 "nbformat": 4,
 "nbformat_minor": 5
}

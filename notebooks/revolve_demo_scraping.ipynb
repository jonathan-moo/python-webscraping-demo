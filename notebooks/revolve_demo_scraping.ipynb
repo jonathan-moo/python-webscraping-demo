{
 "cells": [
  {
   "cell_type": "markdown",
   "id": "1f7cf254",
   "metadata": {},
   "source": [
    "Only run this notebook if you have verified your ChromeDriver setup in the `test_*.ipynb` notebooks."
   ]
  },
  {
   "cell_type": "code",
   "execution_count": 1,
   "id": "a62e1c39-73ff-43c3-a7c5-f86981f9b583",
   "metadata": {},
   "outputs": [],
   "source": [
    "from splinter import Browser\n",
    "from bs4 import BeautifulSoup\n",
    "from selenium.webdriver.chrome.service import Service"
   ]
  },
  {
   "cell_type": "code",
   "execution_count": 2,
   "id": "fab073d5",
   "metadata": {},
   "outputs": [
    {
     "data": {
      "text/plain": [
       "True"
      ]
     },
     "execution_count": 2,
     "metadata": {},
     "output_type": "execute_result"
    }
   ],
   "source": [
    "# Check if ChromeDriver exists in the `drivers` folder\n",
    "import os\n",
    "\n",
    "path = \"../drivers/chromedriver.exe\"\n",
    "os.path.isfile(path)"
   ]
  },
  {
   "cell_type": "code",
   "execution_count": 3,
   "id": "8cf698ba",
   "metadata": {},
   "outputs": [
    {
     "data": {
      "text/plain": [
       "<selenium.webdriver.chrome.service.Service at 0x1e2c2b9dd90>"
      ]
     },
     "execution_count": 3,
     "metadata": {},
     "output_type": "execute_result"
    }
   ],
   "source": [
    "# Point the service to use the ChromeDriver within your project folder\n",
    "my_service = Service(executable_path=path)\n",
    "my_service"
   ]
  },
  {
   "cell_type": "code",
   "execution_count": 4,
   "id": "a452bcc7",
   "metadata": {},
   "outputs": [],
   "source": [
    "# Open a Chrome window using Splinter\n",
    "browser = Browser('chrome', service=my_service)"
   ]
  },
  {
   "cell_type": "code",
   "execution_count": 5,
   "id": "abf496e4",
   "metadata": {},
   "outputs": [],
   "source": [
    "# Setup the URL you want to scrape\n",
    "url = \"https://www.revolve.com/elliatt-astrid-dress-in-multi/dp/ELLI-WD344/?d=Womens&vn=true&page=1&lc=3&itrownum=1&itcurrpage=1&itview=05\""
   ]
  },
  {
   "cell_type": "code",
   "execution_count": 6,
   "id": "fb9b58bc",
   "metadata": {},
   "outputs": [],
   "source": [
    "# Use the browser to visit the URL\n",
    "browser.visit(url)"
   ]
  },
  {
   "cell_type": "code",
   "execution_count": 7,
   "id": "13adb074",
   "metadata": {},
   "outputs": [],
   "source": [
    "# Gather the HTML from the current page in the browser\n",
    "html = browser.html"
   ]
  },
  {
   "cell_type": "code",
   "execution_count": 8,
   "id": "80a38e3b",
   "metadata": {},
   "outputs": [],
   "source": [
    "# Use Beautiful Soup to parse the HTML tags into objects.\n",
    "soup = BeautifulSoup(html, 'html.parser')"
   ]
  },
  {
   "cell_type": "code",
   "execution_count": 9,
   "id": "71b0f112",
   "metadata": {},
   "outputs": [
    {
     "data": {
      "text/plain": [
       "[<span itemprop=\"ratingValue\">5.0 out of 5 stars</span>,\n",
       " <span itemprop=\"ratingValue\">Would you recommend this item? <strong>yes</strong></span>,\n",
       " <span itemprop=\"ratingValue\">5.0 out of 5 stars</span>,\n",
       " <span itemprop=\"ratingValue\">Would you recommend this item? <strong>yes</strong></span>,\n",
       " <span itemprop=\"ratingValue\">5.0 out of 5 stars</span>,\n",
       " <span itemprop=\"ratingValue\">Would you recommend this item? <strong>yes</strong></span>]"
      ]
     },
     "execution_count": 9,
     "metadata": {},
     "output_type": "execute_result"
    }
   ],
   "source": [
    "rating_value_list = soup.find_all('span', attrs={\"itemprop\": \"ratingValue\"})\n",
    "rating_value_list"
   ]
  },
  {
   "cell_type": "code",
   "execution_count": null,
   "id": "32654eae",
   "metadata": {},
   "outputs": [],
   "source": []
  }
 ],
 "metadata": {
  "kernelspec": {
   "display_name": "python-webscraping-demo-mnVRVWp8",
   "language": "python",
   "name": "python3"
  },
  "language_info": {
   "codemirror_mode": {
    "name": "ipython",
    "version": 3
   },
   "file_extension": ".py",
   "mimetype": "text/x-python",
   "name": "python",
   "nbconvert_exporter": "python",
   "pygments_lexer": "ipython3",
   "version": "3.11.7"
  }
 },
 "nbformat": 4,
 "nbformat_minor": 5
}

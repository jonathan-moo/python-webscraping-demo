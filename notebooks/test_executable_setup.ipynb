{
 "cells": [
  {
   "cell_type": "markdown",
   "id": "1f7cf254",
   "metadata": {},
   "source": [
    "This notebook works without defining ChromeDriver within a path environment. You'll need to install ChromeDriver found in the README.md within the `driver` folder.\n",
    "\n",
    "Do install `splinter`, `bs4`, `selenium` with `pip` separately.\n",
    "\n",
    "Run all cells to test."
   ]
  },
  {
   "cell_type": "code",
   "execution_count": 1,
   "id": "a62e1c39-73ff-43c3-a7c5-f86981f9b583",
   "metadata": {},
   "outputs": [],
   "source": [
    "from splinter import Browser\n",
    "from bs4 import BeautifulSoup\n",
    "from selenium.webdriver.chrome.service import Service"
   ]
  },
  {
   "cell_type": "code",
   "execution_count": 2,
   "id": "fab073d5",
   "metadata": {},
   "outputs": [
    {
     "data": {
      "text/plain": [
       "True"
      ]
     },
     "execution_count": 2,
     "metadata": {},
     "output_type": "execute_result"
    }
   ],
   "source": [
    "# Check if ChromeDriver exists in the `drivers` folder\n",
    "import os\n",
    "\n",
    "path = \"../drivers/chromedriver.exe\"\n",
    "os.path.isfile(path)"
   ]
  },
  {
   "cell_type": "code",
   "execution_count": 3,
   "id": "8cf698ba",
   "metadata": {},
   "outputs": [
    {
     "data": {
      "text/plain": [
       "<selenium.webdriver.chrome.service.Service at 0x1e2b178d010>"
      ]
     },
     "execution_count": 3,
     "metadata": {},
     "output_type": "execute_result"
    }
   ],
   "source": [
    "# Point the service to use the ChromeDriver within your project folder\n",
    "my_service = Service(executable_path=path)\n",
    "my_service"
   ]
  },
  {
   "cell_type": "code",
   "execution_count": 4,
   "id": "a452bcc7",
   "metadata": {},
   "outputs": [],
   "source": [
    "# Open a Chrome window using Splinter\n",
    "browser = Browser('chrome', service=my_service)"
   ]
  },
  {
   "cell_type": "markdown",
   "id": "bbc8605e",
   "metadata": {},
   "source": [
    "At this point, your local machine should start a Chrome browser that has a heading called \"Chrome is being controlled by automated test software\"."
   ]
  },
  {
   "cell_type": "code",
   "execution_count": null,
   "id": "abf496e4",
   "metadata": {},
   "outputs": [],
   "source": []
  }
 ],
 "metadata": {
  "kernelspec": {
   "display_name": "python-webscraping-demo-mnVRVWp8",
   "language": "python",
   "name": "python3"
  },
  "language_info": {
   "codemirror_mode": {
    "name": "ipython",
    "version": 3
   },
   "file_extension": ".py",
   "mimetype": "text/x-python",
   "name": "python",
   "nbconvert_exporter": "python",
   "pygments_lexer": "ipython3",
   "version": "3.11.7"
  }
 },
 "nbformat": 4,
 "nbformat_minor": 5
}
